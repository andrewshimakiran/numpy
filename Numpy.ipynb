{
 "cells": [
  {
   "cell_type": "code",
   "execution_count": 2,
   "metadata": {},
   "outputs": [
    {
     "data": {
      "text/plain": [
       "array([10, 20, 30, 40, 50])"
      ]
     },
     "execution_count": 2,
     "metadata": {},
     "output_type": "execute_result"
    }
   ],
   "source": [
    "import numpy\n",
    "my_list=[10,20,30,40,50]\n",
    "arr=numpy.array(my_list)\n",
    "arr"
   ]
  },
  {
   "cell_type": "code",
   "execution_count": 7,
   "metadata": {},
   "outputs": [
    {
     "name": "stdout",
     "output_type": "stream",
     "text": [
      "5\n",
      "int32\n",
      "1\n",
      "(5,)\n"
     ]
    }
   ],
   "source": [
    "import numpy\n",
    "my_list=[10,20,30,40,50]\n",
    "arr=numpy.array(my_list)\n",
    "print(arr.size)\n",
    "print(arr.dtype)\n",
    "print(arr.ndim)\n",
    "print(arr.shape)"
   ]
  },
  {
   "cell_type": "code",
   "execution_count": 8,
   "metadata": {},
   "outputs": [
    {
     "name": "stdout",
     "output_type": "stream",
     "text": [
      "[[10 20 30]\n",
      " [40 50 60]\n",
      " [70 80 90]]\n",
      "9\n",
      "int32\n",
      "2\n",
      "(3, 3)\n"
     ]
    }
   ],
   "source": [
    "import numpy\n",
    "my_list=[[10,20,30],[40,50,60],[70,80,90]]\n",
    "matrix=numpy.array(my_list)\n",
    "print(matrix)\n",
    "print(matrix.size)\n",
    "print(matrix.dtype)\n",
    "print(matrix.ndim)\n",
    "print(matrix.shape)"
   ]
  },
  {
   "cell_type": "code",
   "execution_count": 9,
   "metadata": {},
   "outputs": [
    {
     "name": "stdout",
     "output_type": "stream",
     "text": [
      "Elements:\n",
      "10\n",
      "20\n",
      "30\n",
      "40\n",
      "50\n"
     ]
    }
   ],
   "source": [
    "import numpy as np\n",
    "my_list=[10,20,30,40,50]\n",
    "arr=np.array(my_list)\n",
    "print(\"Elements:\")\n",
    "for ele in arr:\n",
    "    print(ele)"
   ]
  },
  {
   "cell_type": "code",
   "execution_count": 10,
   "metadata": {},
   "outputs": [
    {
     "name": "stdout",
     "output_type": "stream",
     "text": [
      "elements:\n",
      "[[10 20 30]\n",
      " [40 50 60]\n",
      " [70 80 90]]\n"
     ]
    }
   ],
   "source": [
    "import numpy as np\n",
    "my_list=[[10,20,30],[40,50,60],[70,80,90]]\n",
    "matrix=np.array(my_list)\n",
    "print(\"elements:\")\n",
    "print(matrix)"
   ]
  },
  {
   "cell_type": "code",
   "execution_count": 11,
   "metadata": {},
   "outputs": [
    {
     "name": "stdout",
     "output_type": "stream",
     "text": [
      "elements:\n",
      "[10 20 30]\n",
      "[40 50 60]\n",
      "[70 80 90]\n"
     ]
    }
   ],
   "source": [
    "import numpy as np\n",
    "my_list=[[10,20,30],[40,50,60],[70,80,90]]\n",
    "matrix=np.array(my_list)\n",
    "print(\"elements:\")\n",
    "for row in matrix:\n",
    "    print(row)"
   ]
  },
  {
   "cell_type": "code",
   "execution_count": 1,
   "metadata": {},
   "outputs": [
    {
     "name": "stdout",
     "output_type": "stream",
     "text": [
      "elements:\n",
      "10\n",
      "20\n",
      "30\n",
      "40\n",
      "50\n",
      "60\n",
      "70\n",
      "80\n",
      "90\n"
     ]
    }
   ],
   "source": [
    "import numpy as np\n",
    "my_list=[[10,20,30],[40,50,60],[70,80,90]]\n",
    "matrix=np.array(my_list)\n",
    "print(\"elements:\")\n",
    "for row in matrix:\n",
    "    for ele in row:\n",
    "        print(ele)"
   ]
  },
  {
   "cell_type": "code",
   "execution_count": 2,
   "metadata": {},
   "outputs": [
    {
     "name": "stdout",
     "output_type": "stream",
     "text": [
      "elements:\n",
      "10 20 30 \n",
      "40 50 60 \n",
      "70 80 90 \n"
     ]
    }
   ],
   "source": [
    "import numpy as np\n",
    "my_list=[[10,20,30],[40,50,60],[70,80,90]]\n",
    "matrix=np.array(my_list)\n",
    "print(\"elements:\")\n",
    "for row in matrix:\n",
    "    for ele in row:\n",
    "        print(ele,end=' ')\n",
    "    print()"
   ]
  },
  {
   "cell_type": "code",
   "execution_count": 7,
   "metadata": {},
   "outputs": [
    {
     "name": "stdout",
     "output_type": "stream",
     "text": [
      "elements:\n",
      "[[10 20 30]\n",
      " [40 50 60]\n",
      " [70 80 90]]\n",
      "\n",
      "[[10 20 30]\n",
      " [40 50 60]\n",
      " [70 80 90]]\n",
      "\n",
      "[[50 60]\n",
      " [80 90]]\n",
      "\n"
     ]
    }
   ],
   "source": [
    "import numpy\n",
    "my_list=[[10,20,30],[40,50,60],[70,80,90]]\n",
    "matrix=numpy.array(my_list)\n",
    "print(\"elements:\")\n",
    "print(matrix)\n",
    "print()\n",
    "res=matrix[ : , : ]\n",
    "print(res)\n",
    "print()\n",
    "res=matrix[1:3,1:3]\n",
    "print(res)\n",
    "print()"
   ]
  },
  {
   "cell_type": "code",
   "execution_count": 10,
   "metadata": {},
   "outputs": [
    {
     "name": "stdout",
     "output_type": "stream",
     "text": [
      "enter size:5\n",
      "enter 5 elements:\n",
      "1\n",
      "2\n",
      "3\n",
      "4\n",
      "5\n",
      "Array elements: [1 2 3 4 5]\n"
     ]
    }
   ],
   "source": [
    "import numpy\n",
    "n=int(input(\"enter size:\"))\n",
    "arr=numpy.ndarray(shape=(n),dtype=int)\n",
    "print(\"enter %d elements:\" %n)\n",
    "for i in range(n):\n",
    "    arr[i]=int(input())\n",
    "print(\"Array elements:\",arr)"
   ]
  },
  {
   "cell_type": "code",
   "execution_count": 11,
   "metadata": {},
   "outputs": [
    {
     "name": "stdout",
     "output_type": "stream",
     "text": [
      "enter row size:3\n",
      "enter column size5\n",
      "size: 15\n",
      "shape: (3, 5)\n",
      "dimensions: 2\n"
     ]
    }
   ],
   "source": [
    "import numpy\n",
    "m=int(input(\"enter row size:\"))\n",
    "n=int(input(\"enter column size\"))\n",
    "matrix=numpy.ndarray(shape=(m,n),dtype=int)\n",
    "print(\"size:\",matrix.size)\n",
    "print(\"shape:\",matrix.shape)\n",
    "print(\"dimensions:\",matrix.ndim)"
   ]
  },
  {
   "cell_type": "code",
   "execution_count": 1,
   "metadata": {},
   "outputs": [
    {
     "name": "stdout",
     "output_type": "stream",
     "text": [
      "enter row size3\n",
      "enter column size5\n",
      "enter 15 elements of 3X5 matrix\n",
      "3\n",
      "4\n",
      "5\n",
      "6\n",
      "7\n",
      "8\n",
      "9\n",
      "0\n",
      "1\n",
      "2\n",
      "3\n",
      "4\n",
      "5\n",
      "6\n",
      "7\n",
      "3X5 matrix is:\n",
      "[[3 4 5 6 7]\n",
      " [8 9 0 1 2]\n",
      " [3 4 5 6 7]]\n"
     ]
    }
   ],
   "source": [
    "import numpy\n",
    "m=int(input(\"enter row size:\"))\n",
    "n=int(input(\"enter column size:\"))\n",
    "matrix=numpy.ndarray(shape=(m,n),dtype=int)\n",
    "print(\"enter %d elements of %dX%d matrix\" %(m*n,m,n))\n",
    "for i in range(m):\n",
    "    for j in range(n):\n",
    "        matrix[i][j]=int(input())\n",
    "print(\"%dX%d matrix is:\" %(m,n))\n",
    "print(matrix)"
   ]
  },
  {
   "cell_type": "code",
   "execution_count": 2,
   "metadata": {},
   "outputs": [
    {
     "name": "stdout",
     "output_type": "stream",
     "text": [
      "size: 27\n",
      "datatype int32\n",
      "shape: (3, 3, 3)\n",
      "dimensions: 3\n"
     ]
    }
   ],
   "source": [
    "import numpy\n",
    "arr=numpy.ndarray(shape=(3,3,3),dtype=int)\n",
    "print(\"size:\",arr.size)\n",
    "print(\"datatype\",arr.dtype)\n",
    "print(\"shape:\",arr.shape)\n",
    "print(\"dimensions:\",arr.ndim)"
   ]
  },
  {
   "cell_type": "code",
   "execution_count": 3,
   "metadata": {},
   "outputs": [
    {
     "name": "stdout",
     "output_type": "stream",
     "text": [
      "array elements:\n",
      "[[[ 1  2  3]\n",
      "  [ 4  5  6]\n",
      "  [ 7  8  9]]\n",
      "\n",
      " [[10 11 12]\n",
      "  [13 14 15]\n",
      "  [16 17 18]]\n",
      "\n",
      " [[19 20 21]\n",
      "  [22 23 24]\n",
      "  [25 26 27]]]\n"
     ]
    }
   ],
   "source": [
    "import numpy\n",
    "arr=numpy.ndarray(shape=(3,3,3),dtype=int)\n",
    "val=1\n",
    "x=arr.shape[0]\n",
    "y=arr.shape[1]\n",
    "z=arr.shape[2]\n",
    "for i in range(x):\n",
    "    for j in range(y):\n",
    "        for k in range(z):\n",
    "            arr[i][j][k]=val\n",
    "            val=val+1\n",
    "print(\"array elements:\")\n",
    "print(arr)"
   ]
  },
  {
   "cell_type": "code",
   "execution_count": 6,
   "metadata": {},
   "outputs": [
    {
     "name": "stdout",
     "output_type": "stream",
     "text": [
      "5\n",
      "6\n",
      "4\n",
      "3\n",
      "2\n",
      "1\n",
      "4\n",
      "5\n",
      "6\n",
      "7\n",
      "8\n",
      "9\n",
      "0\n",
      "9\n",
      "8\n",
      "7\n",
      "6\n",
      "5\n",
      "4\n",
      "3\n",
      "2\n",
      "1\n",
      "2\n",
      "3\n",
      "4\n",
      "5\n",
      "6\n",
      "array elements:\n",
      "[[[5 6 4]\n",
      "  [3 2 1]\n",
      "  [4 5 6]]\n",
      "\n",
      " [[7 8 9]\n",
      "  [0 9 8]\n",
      "  [7 6 5]]\n",
      "\n",
      " [[4 3 2]\n",
      "  [1 2 3]\n",
      "  [4 5 6]]]\n"
     ]
    }
   ],
   "source": [
    "import numpy\n",
    "arr=numpy.ndarray(shape=(3,3,3),dtype=int)\n",
    "val=1\n",
    "x=arr.shape[0]\n",
    "y=arr.shape[1]\n",
    "z=arr.shape[2]\n",
    "for i in range(x):\n",
    "    for j in range(y):\n",
    "        for k in range(z):\n",
    "            arr[i][j][k]=int(input())\n",
    "            #val=val+1\n",
    "print(\"array elements:\")\n",
    "print(arr)"
   ]
  },
  {
   "cell_type": "markdown",
   "metadata": {},
   "source": []
  }
 ],
 "metadata": {
  "kernelspec": {
   "display_name": "Python 3",
   "language": "python",
   "name": "python3"
  },
  "language_info": {
   "codemirror_mode": {
    "name": "ipython",
    "version": 3
   },
   "file_extension": ".py",
   "mimetype": "text/x-python",
   "name": "python",
   "nbconvert_exporter": "python",
   "pygments_lexer": "ipython3",
   "version": "3.7.6"
  }
 },
 "nbformat": 4,
 "nbformat_minor": 4
}
